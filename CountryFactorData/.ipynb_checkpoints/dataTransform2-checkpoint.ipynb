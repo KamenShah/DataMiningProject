{
 "cells": [
  {
   "cell_type": "code",
   "execution_count": 64,
   "metadata": {
    "scrolled": true
   },
   "outputs": [
    {
     "name": "stderr",
     "output_type": "stream",
     "text": [
      "C:\\Users\\jimmy\\Anaconda3\\lib\\site-packages\\pandas\\core\\frame.py:3694: SettingWithCopyWarning: \n",
      "A value is trying to be set on a copy of a slice from a DataFrame\n",
      "\n",
      "See the caveats in the documentation: http://pandas.pydata.org/pandas-docs/stable/indexing.html#indexing-view-versus-copy\n",
      "  errors=errors)\n"
     ]
    }
   ],
   "source": [
    "#This script takes all the data inside the \"malaria_latinamerical_rawdata\" and splits it up into multiple csv files\n",
    "import numpy as np\n",
    "import pandas as pd\n",
    "\n",
    "malaria = {}\n",
    "df1 = pd.read_csv('malaria_latinamerical_rawdata.csv')\n",
    "df1= df1.replace(0,np.NaN)\n",
    "df1 = df1.replace('', np.NaN)\n",
    "\n",
    "#cache variables\n",
    "lastCol= len(list(df1))\n",
    "lastRow = len(df1.index)  #the last row we want to take data (to remove world bank credits)\n",
    "\n",
    "df1.drop(list(df1)[:1],axis=1, inplace=True) #Drop extra data\n",
    "\n",
    "df1.set_index('Period_Id',inplace=True) #choose 'Series Name' to be the new index\n",
    "\n",
    "\n",
    "#make csv for every country\n",
    "for i in list(df1['Geo_Unit_En'].unique()):\n",
    "    if(malaria.get(i)== None):#if not in dictionary\n",
    "        malaria[i] = df1.loc[df1['Geo_Unit_En']==i]\n",
    "        malaria[i].drop('Geo_Unit_En', axis=1, inplace=True)\n",
    "        malaria[i].to_csv(\"{}_{}-{}.csv\".format(i,df1.index.min(),df1.index.max()),sep=',')"
   ]
  },
  {
   "cell_type": "code",
   "execution_count": null,
   "metadata": {
    "collapsed": true
   },
   "outputs": [],
   "source": []
  }
 ],
 "metadata": {
  "kernelspec": {
   "display_name": "Python 3",
   "language": "python",
   "name": "python3"
  },
  "language_info": {
   "codemirror_mode": {
    "name": "ipython",
    "version": 3
   },
   "file_extension": ".py",
   "mimetype": "text/x-python",
   "name": "python",
   "nbconvert_exporter": "python",
   "pygments_lexer": "ipython3",
   "version": "3.6.5"
  },
  "varInspector": {
   "cols": {
    "lenName": 16,
    "lenType": 16,
    "lenVar": 40
   },
   "kernels_config": {
    "python": {
     "delete_cmd_postfix": "",
     "delete_cmd_prefix": "del ",
     "library": "var_list.py",
     "varRefreshCmd": "print(var_dic_list())"
    },
    "r": {
     "delete_cmd_postfix": ") ",
     "delete_cmd_prefix": "rm(",
     "library": "var_list.r",
     "varRefreshCmd": "cat(var_dic_list()) "
    }
   },
   "types_to_exclude": [
    "module",
    "function",
    "builtin_function_or_method",
    "instance",
    "_Feature"
   ],
   "window_display": false
  }
 },
 "nbformat": 4,
 "nbformat_minor": 2
}
