{
 "cells": [
  {
   "cell_type": "code",
   "execution_count": 3,
   "metadata": {},
   "outputs": [],
   "source": [
    "#Uncomment these lines to install libraries for this script\n",
    "\n",
    "#!pip install -e git+https://github.com/SohierDane/BigQuery_Helper#egg=bq_helper\n",
    "#!pip install --upgrade google-cloud-bigquery"
   ]
  },
  {
   "cell_type": "code",
   "execution_count": 5,
   "metadata": {},
   "outputs": [],
   "source": [
    "import os\n",
    "import bq_helper\n",
    "import datetime as datetime\n",
    "from bq_helper import BigQueryHelper\n",
    "import pandas as pd\n",
    "%run country-boundingbox.ipynb\n",
    "\n",
    "os.environ[\"GOOGLE_APPLICATION_CREDENTIALS\"] = \"Data-mining-afa11af25388.json\"\n",
    "# https://www.kaggle.com/sohier/introduction-to-the-bq-helper-package\n",
    "noaa = bq_helper.BigQueryHelper(active_project=\"bigquery-public-data\",\n",
    "                                   dataset_name=\"ghcn_d\")"
   ]
  },
  {
   "cell_type": "code",
   "execution_count": 6,
   "metadata": {},
   "outputs": [],
   "source": [
    "#Function returns all weather station data within the country between the specified years. Inefficient, but  complete.\n",
    "#All country IDs can be found in the country-boundingbox file\n",
    "\n",
    "def weatherDataByCountry(countryID, startYear, endYear):\n",
    "    coordinates = country_bounding_boxes[countryID][1]\n",
    "    lonMin = str(coordinates[0])\n",
    "    latMin = str(coordinates[1])\n",
    "    lonMax = str(coordinates[2])\n",
    "    latMax = str(coordinates[3])\n",
    "    weatherData = pd.DataFrame()\n",
    "    for i in range(startYear,endYear):\n",
    "        query = \"\"\"SELECT\n",
    "          stations.id,\n",
    "          weather.date,\n",
    "          weather.element,\n",
    "          weather.value\n",
    "        FROM\n",
    "          `bigquery-public-data.ghcn_d.ghcnd_\"\"\"+str(i)+\"\"\"` AS weather INNER JOIN `bigquery-public-data.ghcn_d.ghcnd_stations` AS stations ON \n",
    "          weather.id = stations.id\n",
    "        WHERE\n",
    "          weather.element = 'TAVG'\n",
    "          AND stations.latitude >\"\"\"+latMin+\"\"\"\n",
    "          AND stations.latitude <\"\"\"+latMax+\"\"\"\n",
    "          AND stations.longitude >\"\"\"+lonMin+\"\"\"\n",
    "          AND stations.longitude <\"\"\"+lonMax+\"\"\"\n",
    "        ORDER BY\n",
    "            weather.date ASC;\n",
    "                \"\"\"\n",
    "        response2 = noaa.query_to_pandas_safe(query, max_gb_scanned=10)\n",
    "        weatherData = weatherData.append(response2)\n",
    "    weatherData.dropna()\n",
    "    return weatherData"
   ]
  },
  {
   "cell_type": "code",
   "execution_count": 7,
   "metadata": {},
   "outputs": [
    {
     "name": "stdout",
     "output_type": "stream",
     "text": [
      "13964\n",
      "            id        date element  value\n",
      "0  HOM00078708  2013-01-01    TAVG  249.0\n",
      "1  ES003800510  2013-01-01    TAVG  263.0\n",
      "2  HO000078720  2013-01-01    TAVG  194.0\n",
      "3  HOM00078705  2013-01-01    TAVG  267.0\n",
      "4  ES003800510  2013-01-02    TAVG  262.0\n",
      "5  HO000078711  2013-01-02    TAVG  259.0\n",
      "6  HOM00078705  2013-01-02    TAVG  253.0\n",
      "7  HO000078720  2013-01-02    TAVG  209.0\n",
      "8  HOM00078708  2013-01-02    TAVG  261.0\n",
      "9  HOM00078708  2013-01-03    TAVG  252.0\n"
     ]
    }
   ],
   "source": [
    "dfWeather= weatherDataByCountry('HN', 2013, 2015)\n",
    "print(dfWeather.size)\n",
    "print(dfWeather.head(10))"
   ]
  },
  {
   "cell_type": "code",
   "execution_count": 8,
   "metadata": {},
   "outputs": [],
   "source": [
    "#Function finds the closest weather station to a specified coordinates and returns weather data between the specified years.\n",
    "#Function takes in latitude and longitude coordinates (ensure to add negative signs to coordinates if necessary)\n",
    "\n",
    "def weatherDataByCoordinates(lat, long, startYear, endYear):\n",
    "    stationID = closestStationToLoc(lat, long)\n",
    "    df = weatherDataForStationID(stationID, startYear, endYear)\n",
    "    df['value'] = df['value'].div(10,axis=0) #fix value\n",
    "    df[\"date\"] = pd.to_datetime(df[\"date\"]) #set Date as index\n",
    "    df.set_index('date', inplace=True)\n",
    "    return df\n",
    "\n",
    "\n",
    "\n",
    "#Helper functions\n",
    "def closestStationToLoc(lat, long):\n",
    "    query = \"\"\"SELECT weather.id, POWER(POWER(weather.latitude - \"\"\"+str(lat)+\"\"\",2) + POWER(weather.longitude - \"\"\"+str(long)+\"\"\",2), 1/2) AS distance, weather.latitude, weather.longitude\n",
    "    FROM\n",
    "      `bigquery-public-data.ghcn_d.ghcnd_stations` AS weather\n",
    "    ORDER BY\n",
    "        distance ASC\n",
    "    LIMIT 10;\n",
    "            \"\"\"\n",
    "    response2 = noaa.query_to_pandas_safe(query, max_gb_scanned=10)\n",
    "    return response2['id'].iloc[0]\n",
    "\n",
    "def weatherDataForStationID(ID, startYear, endYear):\n",
    "    weatherData = pd.DataFrame()\n",
    "    for i in range(startYear,endYear):\n",
    "        query = \"\"\"SELECT\n",
    "          weather.date,\n",
    "          weather.value\n",
    "        FROM\n",
    "          `bigquery-public-data.ghcn_d.ghcnd_\"\"\"+str(i)+\"\"\"` AS weather\n",
    "        WHERE\n",
    "            weather.element = 'TAVG'\n",
    "            AND weather.id = '\"\"\"+ID+\"\"\"'\n",
    "        ORDER BY\n",
    "            weather.date ASC;\n",
    "                \"\"\"\n",
    "        response2 = noaa.query_to_pandas_safe(query, max_gb_scanned=10)\n",
    "        weatherData = weatherData.append(response2)\n",
    "    weatherData.dropna()\n",
    "    return weatherData"
   ]
  },
  {
   "cell_type": "code",
   "execution_count": 9,
   "metadata": {},
   "outputs": [
    {
     "name": "stdout",
     "output_type": "stream",
     "text": [
      "1816\n",
      "            value\n",
      "date             \n",
      "2013-01-01   26.7\n",
      "2013-01-02   25.3\n",
      "2013-01-03   25.1\n",
      "2013-01-04   23.8\n",
      "2013-01-05   25.1\n",
      "2013-01-06   25.1\n",
      "2013-01-07   24.8\n",
      "2013-01-08   25.4\n",
      "2013-01-09   25.8\n",
      "2013-01-10   25.8\n",
      "value    float64\n",
      "dtype: object\n"
     ]
    }
   ],
   "source": [
    "dfWeather = weatherDataByCoordinates(15.2000, -86.2419, 2013, 2018)\n",
    "print(dfWeather.size)\n",
    "print(dfWeather.head(10))\n",
    "print(dfWeather.dtypes)"
   ]
  },
  {
   "cell_type": "code",
   "execution_count": 10,
   "metadata": {},
   "outputs": [],
   "source": [
    "#Turns a dataframe to the moving average with (i days)\n",
    "# df - Pandas Dataframe\n",
    "# i - Value for how many days to take the moving average with respect to\n",
    "def movingAvg(df,i):\n",
    "    if(i < 1):\n",
    "        raise Exception('Invalid Int: Cannot find moving average of {}.'.format(sample))\n",
    "    df['value'] = df['value'].rolling(i,center=True,min_periods=1).mean()\n",
    "    return df"
   ]
  },
  {
   "cell_type": "code",
   "execution_count": 11,
   "metadata": {},
   "outputs": [
    {
     "name": "stdout",
     "output_type": "stream",
     "text": [
      "                value\n",
      "date                 \n",
      "2013-01-01  26.000000\n",
      "2013-01-02  25.700000\n",
      "2013-01-03  24.733333\n",
      "2013-01-04  24.666667\n",
      "2013-01-05  24.666667\n",
      "2013-01-06  25.000000\n",
      "2013-01-07  25.100000\n",
      "2013-01-08  25.333333\n",
      "2013-01-09  25.666667\n",
      "2013-01-10  25.833333\n"
     ]
    }
   ],
   "source": [
    "dfWeather_ma = movingAvg(dfWeather,3)\n",
    "print(dfWeather_ma.head(10))"
   ]
  },
  {
   "cell_type": "code",
   "execution_count": 29,
   "metadata": {},
   "outputs": [],
   "source": [
    "#function to downsample to year month\n",
    "def downSample(df,sample):\n",
    "    if(sample == '1Y'):\n",
    "        df= df.resample(sample).mean()\n",
    "        df.index = df.index.to_period('y')\n",
    "    elif(sample == '1M'):\n",
    "        df= df.resample(sample).mean()\n",
    "        df.index = df.index.to_period('m')\n",
    "    else:\n",
    "        raise Exception('Invalid Sample String: The value was: {}.'.format(sample))\n",
    "    return df"
   ]
  },
  {
   "cell_type": "code",
   "execution_count": 30,
   "metadata": {},
   "outputs": [
    {
     "name": "stdout",
     "output_type": "stream",
     "text": [
      "             value\n",
      "date              \n",
      "2013-01  23.876344\n",
      "2013-02  25.026190\n",
      "2013-03  23.286022\n",
      "2013-04  25.724444\n",
      "2013-05  27.325806\n",
      "2013-06  27.091111\n",
      "2013-07  26.905128\n",
      "2013-08  27.295699\n",
      "2013-09  27.695402\n",
      "2013-10  26.980645\n",
      "          value\n",
      "date           \n",
      "2013  25.847168\n",
      "2014  25.512785\n",
      "2015  26.626301\n",
      "2016  27.408974\n",
      "2017  26.500092\n"
     ]
    }
   ],
   "source": [
    "#DownSample by Month\n",
    "dfWeather_mo = downSample(dfWeather_ma,'1M')\n",
    "print(dfWeather_mo.head(10))\n",
    "\n",
    "#Downsample by Year\n",
    "dfWeather_yr = downSample(dfWeather_ma,'1Y')\n",
    "print(dfWeather_yr)"
   ]
  },
  {
   "cell_type": "code",
   "execution_count": null,
   "metadata": {},
   "outputs": [],
   "source": []
  },
  {
   "cell_type": "code",
   "execution_count": null,
   "metadata": {},
   "outputs": [],
   "source": []
  }
 ],
 "metadata": {
  "kernelspec": {
   "display_name": "Python 3",
   "language": "python",
   "name": "python3"
  },
  "language_info": {
   "codemirror_mode": {
    "name": "ipython",
    "version": 3
   },
   "file_extension": ".py",
   "mimetype": "text/x-python",
   "name": "python",
   "nbconvert_exporter": "python",
   "pygments_lexer": "ipython3",
   "version": "3.6.5"
  },
  "varInspector": {
   "cols": {
    "lenName": 16,
    "lenType": 16,
    "lenVar": 40
   },
   "kernels_config": {
    "python": {
     "delete_cmd_postfix": "",
     "delete_cmd_prefix": "del ",
     "library": "var_list.py",
     "varRefreshCmd": "print(var_dic_list())"
    },
    "r": {
     "delete_cmd_postfix": ") ",
     "delete_cmd_prefix": "rm(",
     "library": "var_list.r",
     "varRefreshCmd": "cat(var_dic_list()) "
    }
   },
   "types_to_exclude": [
    "module",
    "function",
    "builtin_function_or_method",
    "instance",
    "_Feature"
   ],
   "window_display": false
  }
 },
 "nbformat": 4,
 "nbformat_minor": 2
}
