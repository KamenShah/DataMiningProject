{
 "cells": [
  {
   "cell_type": "code",
   "execution_count": 1,
   "metadata": {},
   "outputs": [
    {
     "name": "stdout",
     "output_type": "stream",
     "text": [
      "weatherOutputs/Honduras1990-2016.csv\n"
     ]
    }
   ],
   "source": [
    "import numpy as np\n",
    "import pandas as pd\n",
    "import statsmodels.api as sm\n",
    "import matplotlib.pyplot as plt\n",
    "from scipy import stats\n",
    "%matplotlib inline\n",
    "\n",
    "country = 'Honduras'  #note: 'El Salvador' w space\n",
    "\n",
    "backSelNo = 9 #Use findfeatures function with any number between 1-19\n",
    "\n",
    "\n",
    "weathercsv = 'weatherOutputs/' + country + '1990-2016.csv'\n",
    "countryFactorFile = 'CountryFactorData/' +country + '.csv'\n",
    "countryMalariaFile = 'CountryFactorData/' +country +'_1990-2017.csv'\n",
    "\n",
    "#countryStr = countryFactorFile[:-4]\n",
    "countryStr = country\n",
    "df2 = pd.read_csv(countryMalariaFile)\n",
    "\n",
    "print(weathercsv)\n",
    "\n"
   ]
  },
  {
   "cell_type": "code",
   "execution_count": 59,
   "metadata": {},
   "outputs": [],
   "source": [
    "def getWorldbank(filename1):\n",
    "    #df1 = pd.read_csv('honduras_factors.csv')\n",
    "\n",
    "    \n",
    "    df1 = pd.read_csv(filename1)\n",
    "    df1= df1.replace(0,np.NaN)\n",
    "    df1 = df1.replace('', np.NaN)\n",
    "\n",
    "    lastCol= len(list(df1))\n",
    "    lastRow = len(df1.index)-5  #the last row we want to take data (to remove world bank credits)\n",
    "\n",
    "    #dont change the order of code below!\n",
    "    df1.drop(df1.index[lastRow:], inplace=True)\n",
    "    df1.drop(list(df1)[lastCol-2:lastCol],axis=1, inplace=True)\n",
    "    df1.drop('Country Name', axis=1, inplace=True)\n",
    "    \n",
    "    df1.drop(list(df1)[1:22],axis=1, inplace=True)  #delete select columns (years) from input file\n",
    "    df1.dropna(axis=0, inplace=True)\n",
    "    \n",
    "    df1.set_index('Series Name',inplace=True) #choose 'Series Name' to be the new index\n",
    "    dfT = df1.T\n",
    "    dfT = dfT.reset_index()   #reset index - required for OLS format\n",
    "#    newName = filename1[:-4]\n",
    "#    newName = newName + 'Factors.csv'\n",
    "#    dfT.to_csv(newName, encoding='utf-8')\n",
    "    lenCol= len(list(dfT))  #to find number of columns of pruned table\n",
    "    X = dfT[list(dfT)[1:lenCol]]  #take all columns for analysis except for 1st column(year) \n",
    "    X = sm.add_constant(X)\n",
    "    return X\n",
    "\n",
    "def getMalariaCountry(filename2):    \n",
    "    #df2 = pd.read_csv('honduras_1990-2016.csv')\n",
    "    df2 = pd.read_csv(filename2)\n",
    "    colname = list(df2)[1]\n",
    "    y = df2[colname]\n",
    "    return y\n",
    "\n",
    "def saveResults(typeName, modelName, countryName, predictEqName):\n",
    "#    with open('myresults.csv', 'w') as f:\n",
    "#    f.write(model.summary().as_csv())\n",
    "    if typeName == 'WB':\n",
    "        filename = '../finishedResultsWB/'+ countryName + 'WBResults.txt'\n",
    "    elif typeName == 'weather':\n",
    "        filename = '../finishedResultsWB/'+ countryName + 'WeatherResults.txt'\n",
    "    else:\n",
    "        print('error wrong type')\n",
    "        return\n",
    "    f = open(filename, 'w')\n",
    "    f.write(modelName.summary().as_text()+'\\n\\n') #just another way to convert to str\n",
    "    f.write(str(modelName.params)+'\\n\\n')\n",
    "    f.write(str(modelName.pvalues)+'\\n\\n')\n",
    "    f.write(str(predictEqName))\n",
    "    f.close()\n",
    "    return\n",
    "\n",
    "x = getWorldbank(countryFactorFile)    \n",
    "y = getMalariaCountry(countryMalariaFile)"
   ]
  },
  {
   "cell_type": "code",
   "execution_count": 60,
   "metadata": {},
   "outputs": [],
   "source": [
    "def findFeatures(maxFeatures, y, x):   \n",
    "    lenCol = len(list(x))               #added to fix missing variable lenCol\n",
    "    subset = x[list(x)[1:lenCol]]    #list is pandas builtin function to get header list\n",
    "    while(len(subset.columns) > maxFeatures):\n",
    "        subsetNames = []\n",
    "        end = len(subset.columns) - 20\n",
    "        if(len(subset.columns) < 20):\n",
    "            end = len(subset.columns)\n",
    "        for i in range(0, end, 20):\n",
    "            subsetNames.extend(backward_select(subset[list(subset)[i:i+20]], y,  list(subset[list(subset)[i:i+20]].columns.values), maxFeatures))\n",
    "        subset = x[subsetNames]\n",
    "    return subset\n",
    "\n",
    "\n",
    "def backward_select(df, y, remaining_features, maxFeatures):\n",
    "    SSE = 0\n",
    "    while True:\n",
    "        X = df[remaining_features]\n",
    "        X = sm.add_constant(X)\n",
    "        model = sm.OLS(y, X).fit()\n",
    "        yhat = model.predict(X)\n",
    "        SSE=((y-yhat)**2).sum()\n",
    "        maxVal = 0\n",
    "        index = 0 \n",
    "        a = model.pvalues\n",
    "        for val in range(0,len(a)):\n",
    "            if a[val] > maxVal:\n",
    "                maxVal = a[val]\n",
    "                index = val\n",
    "        if len(remaining_features) > maxFeatures:\n",
    "            #print(remaining_features[index-1],\", SSE:\",SSE)\n",
    "            del remaining_features[index-1]\n",
    "        else:\n",
    "            break\n",
    "    return list(remaining_features)"
   ]
  },
  {
   "cell_type": "code",
   "execution_count": 61,
   "metadata": {},
   "outputs": [
    {
     "name": "stdout",
     "output_type": "stream",
     "text": [
      "Adults (ages 15+) and children (ages 0-14) newly infected with HIV\n",
      "Armed forces personnel (% of total labor force)\n",
      "Average grant element on new external debt commitments (%)\n",
      "Average grant element on new external debt commitments, official (%)\n",
      "Average maturity on new external debt commitments (years)\n",
      "Average maturity on new external debt commitments, official (years)\n",
      "Net bilateral aid flows from DAC donors, Total (current US$)\n",
      "Net official development assistance and official aid received (constant 2015 US$)\n",
      "Net official development assistance received (constant 2015 US$)\n",
      "-47845.516870048996 +11.577951899551977x  +53350.43891715421x  -3374.0180397558265x  +3459.5478096154106x  +10543.353982780658x  -9932.694589207098x  -7.525313138528105e-05x  -0.0030974268206801097x  +0.003130751429235337x \n"
     ]
    },
    {
     "data": {
      "image/png": "[encoded data removed]",
      "text/plain": [
       "<Figure size 432x288 with 1 Axes>"
      ]
     },
     "metadata": {
      "needs_background": "light"
     },
     "output_type": "display_data"
    }
   ],
   "source": [
    "\n",
    "\n",
    "#dfWeather = pd.read_csv('../HondurasWeather1990-2016.csv')\n",
    "#y = df2['Honduras'] #replaced w function : y = getMalariaCountry(filename)\n",
    "\n",
    "def WB(x, y, countryStr, df2, backSelectNo):\n",
    "    dfSubset = findFeatures(backSelectNo, y, x) #replaced dfT with x\n",
    "    X = dfSubset\n",
    "    X = sm.add_constant(X)\n",
    "    model = sm.OLS(y, X).fit()\n",
    "\n",
    "    # print(model.params)\n",
    "    # print(model.pvalues)\n",
    "    predictionEq = str(model.params[0])\n",
    "    for j in range(1, len(model.params)):\n",
    "        if(model.params[j] < 0):\n",
    "            predictionEq +=  ' '+str(model.params[j])+'x '\n",
    "        else:\n",
    "            predictionEq += ' +'+str(model.params[j])+'x '\n",
    "\n",
    "    for col in dfSubset.columns:\n",
    "        print(col) \n",
    "    #print(model.summary())\n",
    "    print(predictionEq)\n",
    "    #plt.plot(range(1990,2017),df2['Honduras'], color='b', label='Real Malaria Levels')\n",
    "    plt.plot(range(1990,2017),df2['Datum'], color='b', label='Real Malaria Levels')   #note !!!code will break if 'Datum' not in countryMalariaFile\n",
    "    plt.plot(range(1990,2017),model.predict(X), color='r', label='Predictive Model')\n",
    "    plt.title(\"Predictive Model WorldBank Data-\"+countryStr)\n",
    "    plt.xlabel('Year')\n",
    "    plt.ylabel('Malaria Infections')\n",
    "    plt.legend()\n",
    "    plt.savefig('../finishedResultsWB/' + countryStr+ 'WBPlot.jpg',bbox = 'tight')\n",
    "    plt.show()\n",
    "    type = 'WB'\n",
    "    saveResults(type, model, countryStr, predictionEq)\n",
    "    return\n",
    "\n",
    "WB(x, y, countryStr, df2, backSelNo)"
   ]
  },
  {
   "cell_type": "code",
   "execution_count": 62,
   "metadata": {},
   "outputs": [
    {
     "name": "stdout",
     "output_type": "stream",
     "text": [
      "prcpMin\n",
      "prcpMax\n",
      "tmpAvg\n",
      "                            OLS Regression Results                            \n",
      "==============================================================================\n",
      "Dep. Variable:                  Datum   R-squared:                       0.418\n",
      "Model:                            OLS   Adj. R-squared:                  0.343\n",
      "Method:                 Least Squares   F-statistic:                     5.516\n",
      "Date:                Sun, 28 Apr 2019   Prob (F-statistic):            0.00528\n",
      "Time:                        21:56:39   Log-Likelihood:                -306.72\n",
      "No. Observations:                  27   AIC:                             621.4\n",
      "Df Residuals:                      23   BIC:                             626.6\n",
      "Df Model:                           3                                         \n",
      "Covariance Type:            nonrobust                                         \n",
      "==============================================================================\n",
      "                 coef    std err          t      P>|t|      [0.025      0.975]\n",
      "------------------------------------------------------------------------------\n",
      "const      -4.963e+05   1.79e+05     -2.774      0.011   -8.66e+05   -1.26e+05\n",
      "prcpMin    -2716.6516   5904.104     -0.460      0.650   -1.49e+04    9496.919\n",
      "prcpMax     1.175e+04   5915.452      1.986      0.059    -488.569     2.4e+04\n",
      "tmpAvg      8141.7635   7980.097      1.020      0.318   -8366.325    2.46e+04\n",
      "==============================================================================\n",
      "Omnibus:                        0.632   Durbin-Watson:                   0.861\n",
      "Prob(Omnibus):                  0.729   Jarque-Bera (JB):                0.390\n",
      "Skew:                           0.287   Prob(JB):                        0.823\n",
      "Kurtosis:                       2.865   Cond. No.                     1.87e+03\n",
      "==============================================================================\n",
      "\n",
      "Warnings:\n",
      "[1] Standard Errors assume that the covariance matrix of the errors is correctly specified.\n",
      "[2] The condition number is large, 1.87e+03. This might indicate that there are\n",
      "strong multicollinearity or other numerical problems.\n",
      "-496338.23660665983 -2716.6516141885268x  +11748.475566842031x  +8141.763484475076x \n"
     ]
    },
    {
     "data": {
      "image/png": "[encoded data removed]",
      "text/plain": [
       "<Figure size 432x288 with 1 Axes>"
      ]
     },
     "metadata": {
      "needs_background": "light"
     },
     "output_type": "display_data"
    }
   ],
   "source": [
    "\n",
    "def weather(weathercsv, y, countryStr):\n",
    "    dfWeather = pd.read_csv(weathercsv, header=0)\n",
    "    lenCol = len(list(dfWeather))\n",
    "    dfWeather = dfWeather[list(dfWeather)[1:lenCol]]\n",
    "    \n",
    "    #df2 = pd.read_csv('honduras_1990-2016.csv')\n",
    "    #y = df2['Honduras']\n",
    "\n",
    "    X = dfWeather\n",
    "    X = sm.add_constant(X)\n",
    "    model = sm.OLS(y, X).fit()\n",
    "    predictionEq = str(model.params[0])\n",
    "    for j in range(1, len(model.params)):\n",
    "        if(model.params[j] < 0):\n",
    "            predictionEq +=  ' '+str(model.params[j])+'x '\n",
    "        else:\n",
    "            predictionEq += ' +'+str(model.params[j])+'x '\n",
    "\n",
    "    for col in dfWeather.columns: \n",
    "        print(col) \n",
    "    print(model.summary())\n",
    "    print(predictionEq)\n",
    "    plt.plot(range(1990,2017),df2['Datum'], color='b', label='Real Malaria Levels')\n",
    "    plt.plot(range(1990,2017),model.predict(X), color='r', label='Predictive Model')\n",
    "    plt.title(\"Predictive Model with Weather Data-\" + countryStr)\n",
    "    plt.xlabel('Year')\n",
    "    plt.ylabel('Malaria Infections')\n",
    "    plt.legend()\n",
    "    plt.savefig('../finishedResultsWB/' + countryStr+ 'WeatherPlot.jpg',bbox = 'tight')\n",
    "    plt.show()\n",
    "    type='weather'\n",
    "    saveResults(type, model, countryStr, predictionEq)\n",
    "    return \n",
    "\n",
    "weather(weathercsv, y, countryStr)\n",
    "    "
   ]
  },
  {
   "cell_type": "code",
   "execution_count": 63,
   "metadata": {},
   "outputs": [
    {
     "name": "stdout",
     "output_type": "stream",
     "text": [
      "13.21175697415809\n",
      "2.2182526487841208\n"
     ]
    }
   ],
   "source": [
    "#df2 = pd.read_csv('honduras_1990-2016.csv')\n",
    "\n",
    "#y = df2['Honduras']\n",
    "def Fvalue(x, y, backSelNo, weathercsv, country):\n",
    "    dfSubset = findFeatures(backSelNo, y, x)\n",
    "    X = dfSubset\n",
    "    X = sm.add_constant(X)\n",
    "    model = sm.OLS(y, X).fit()\n",
    "    yhat = model.predict(X)\n",
    "    SSEFull=((y-yhat)**2).sum()\n",
    "\n",
    "    dfWeather = pd.read_csv(weathercsv)\n",
    "    y = df2['Datum']\n",
    "    X = dfWeather\n",
    "    X = sm.add_constant(X)\n",
    "    model = sm.OLS(y, X).fit()\n",
    "    yhat = model.predict(X)\n",
    "    SSERed=((y-yhat)**2).sum()\n",
    "\n",
    "    F = ((SSERed-SSEFull)/(len(dfSubset.columns)-len(dfWeather.columns)))/(SSEFull/(len(dfSubset)-len(dfSubset.columns)-1)) \n",
    "    print(F)\n",
    "    \n",
    "    print(stats.f.ppf(1-0.1, (len(dfSubset.columns)-len(dfWeather.columns)),(len(dfSubset)-len(dfSubset.columns)-1) ))\n",
    "    F2 = (stats.f.ppf(1-0.1, (len(dfSubset.columns)-len(dfWeather.columns)),(len(dfSubset)-len(dfSubset.columns)-1) ))\n",
    "    \n",
    "    f=open('../finishedResultsWB/' + country + 'Fvaue.txt', 'w')\n",
    "    f.write(str(F)+ '\\n')\n",
    "    f.write(str(F2))\n",
    "    f.close()\n",
    "    \n",
    "    return\n",
    "\n",
    "Fvalue(x, y, backSelNo, weathercsv, country)\n"
   ]
  },
  {
   "cell_type": "code",
   "execution_count": null,
   "metadata": {},
   "outputs": [],
   "source": []
  },
  {
   "cell_type": "code",
   "execution_count": null,
   "metadata": {},
   "outputs": [],
   "source": []
  }
 ],
 "metadata": {
  "kernelspec": {
   "display_name": "Python 3",
   "language": "python",
   "name": "python3"
  },
  "language_info": {
   "codemirror_mode": {
    "name": "ipython",
    "version": 3
   },
   "file_extension": ".py",
   "mimetype": "text/x-python",
   "name": "python",
   "nbconvert_exporter": "python",
   "pygments_lexer": "ipython3",
   "version": "3.6.5"
  }
 },
 "nbformat": 4,
 "nbformat_minor": 2
}
