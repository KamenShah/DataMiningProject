{
 "cells": [
  {
   "cell_type": "code",
   "execution_count": null,
   "metadata": {},
   "outputs": [],
   "source": [
    "dfSharks = pd.read_csv('data/sharknadoes.csv') # TODO - need extra arguments to read correctly\n",
    "dfSharks = dfSharks.replace('', np.NaN)\n",
    "dfSharks = dfSharks.dropna()\n",
    "dfSharks = dfSharks.reset_index()"
   ]
  },
  {
   "cell_type": "code",
   "execution_count": null,
   "metadata": {},
   "outputs": [],
   "source": [
    "# Collect the features in a 2D array \n",
    "X = dfSharks[[\"clouds\",  \"earthquake\",  \"pizzas sold\",  \"taunts\",  \"pressure\",  \"shark attacks\", \"octopuses\", \"precipitation\", \"misery index\", \"ice cream sold\", \"humidity\", \"temperature\", \"Dans shoe size\", \"Tonys shoe size\"]]\n",
    "\n",
    "# Add a constant to the array for the intecept \n",
    "X = sm.add_constant(X)\n",
    "\n",
    "# Collect the response data in an array \n",
    "y = dfSharks[\"sharknado hazard\"]\n",
    "\n",
    "# Fit the ordinary least-squares (OLS) model \n",
    "model = sm.OLS(y, X).fit()\n",
    "print(model.pvalues)"
   ]
  },
  {
   "cell_type": "code",
   "execution_count": null,
   "metadata": {},
   "outputs": [],
   "source": [
    "def backward_select(df, resp_str, maxsse):\n",
    "    SSE = 0\n",
    "    remaining_features=[\"clouds\",\"earthquake\",\"pizzas sold\",\"taunts\",\"pressure\",\"shark attacks\",\"octopuses\",\"precipitation\",\"misery index\",\"ice cream sold\",\"humidity\",\"temperature\",\"Dans shoe size\",\"Tonys shoe size\"]\n",
    "    y = df[resp_str]\n",
    "    while True:\n",
    "        X = df[remaining_features]\n",
    "        X = sm.add_constant(X)\n",
    "        model = sm.OLS(y, X).fit()\n",
    "        yhat = model.predict(X)\n",
    "        SSE=((y-yhat)**2).sum()\n",
    "        maxVal = 0\n",
    "        index = 0 \n",
    "        a = model.pvalues\n",
    "        for val in range(0,len(a)):\n",
    "            if a[val] > maxVal:\n",
    "                maxVal = a[val]\n",
    "                index = val\n",
    "        if SSE <= 570:\n",
    "            print(remaining_features[index-1],\", SSE:\",SSE)\n",
    "            del remaining_features[index-1]\n",
    "        else:\n",
    "            break\n",
    "    print(\"The reamining features\", remaining_features)\n",
    "\n",
    "backward_select(dfSharks, 'sharknado hazard', 570)\n"
   ]
  },
  {
   "cell_type": "code",
   "execution_count": null,
   "metadata": {},
   "outputs": [],
   "source": [
    "features=[\"earthquake\",\"taunts\",\"pressure\",\"precipitation\",\"temperature\"]\n",
    "y = dfSharks[\"sharknado hazard\"]\n",
    "X = dfSharks[features]\n",
    "X = sm.add_constant(X)\n",
    "model = sm.OLS(y, X).fit()\n",
    "print(model.summary())"
   ]
  },
  {
   "cell_type": "code",
   "execution_count": null,
   "metadata": {},
   "outputs": [],
   "source": [
    "y = -2549.898496 -1.51*0.8 +2.5*5 -0.000625*5500 + 0.311*47 + 3.068*850 - 0.115*11 - 0.0748*6 + 1.398*1 + 0.0272*15 +0.009587*120 + 0.0188*83 - 0.442*70 + 0.027*9.5 + 0.2813*9\n",
    "print(\"The sharknado hazard with this observed features is\",y)"
   ]
  }
 ],
 "metadata": {
  "kernelspec": {
   "display_name": "Python 3",
   "language": "python",
   "name": "python3"
  },
  "language_info": {
   "codemirror_mode": {
    "name": "ipython",
    "version": 3
   },
   "file_extension": ".py",
   "mimetype": "text/x-python",
   "name": "python",
   "nbconvert_exporter": "python",
   "pygments_lexer": "ipython3",
   "version": "3.6.5"
  }
 },
 "nbformat": 4,
 "nbformat_minor": 2
}
