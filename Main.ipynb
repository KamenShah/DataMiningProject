{
 "cells": [
  {
   "cell_type": "code",
   "execution_count": 1,
   "metadata": {},
   "outputs": [],
   "source": [
    "#!pip install -e git+https://github.com/SohierDane/BigQuery_Helper#egg=bq_helper\n",
    "#!pip install --upgrade google-cloud-bigquery"
   ]
  },
  {
   "cell_type": "code",
   "execution_count": 2,
   "metadata": {},
   "outputs": [],
   "source": [
    "import os\n",
    "import bq_helper\n",
    "from bq_helper import BigQueryHelper\n",
    "import pandas as pd\n",
    "%run country-boundingbox.ipynb\n",
    "\n",
    "os.environ[\"GOOGLE_APPLICATION_CREDENTIALS\"] = \"Data-mining-afa11af25388.json\"\n",
    "# https://www.kaggle.com/sohier/introduction-to-the-bq-helper-package\n",
    "noaa = bq_helper.BigQueryHelper(active_project=\"bigquery-public-data\",\n",
    "                                   dataset_name=\"ghcn_d\")"
   ]
  },
  {
   "cell_type": "code",
   "execution_count": 50,
   "metadata": {},
   "outputs": [
    {
     "name": "stdout",
     "output_type": "stream",
     "text": [
      "104948\n",
      "            id        date element  value\n",
      "0  HO000078711  2000-01-01    TAVG  264.0\n",
      "1  HOM00078708  2000-01-01    TAVG  234.0\n",
      "2  HO000078720  2000-01-01    TAVG  192.0\n",
      "3  HOM00078705  2000-01-01    TAVG  215.0\n",
      "4  HOM00078705  2000-01-02    TAVG  237.0\n",
      "5  HO000078720  2000-01-02    TAVG  205.0\n",
      "6  HOM00078708  2000-01-02    TAVG  238.0\n",
      "7  HO000078711  2000-01-02    TAVG  270.0\n",
      "8  HO000078711  2000-01-03    TAVG  269.0\n",
      "9  HO000078720  2000-01-03    TAVG  193.0\n"
     ]
    }
   ],
   "source": [
    "def weatherDataByCountry(countryID):\n",
    "    coordinates = country_bounding_boxes[countryID][1]\n",
    "    lonMin = str(coordinates[0])\n",
    "    latMin = str(coordinates[1])\n",
    "    lonMax = str(coordinates[2])\n",
    "    latMax = str(coordinates[3])\n",
    "    weatherData = pd.DataFrame()\n",
    "    for i in range(2000,2015):\n",
    "        query = \"\"\"SELECT\n",
    "          stations.id,\n",
    "          weather.date,\n",
    "          weather.element,\n",
    "          weather.value\n",
    "        FROM\n",
    "          `bigquery-public-data.ghcn_d.ghcnd_\"\"\"+str(i)+\"\"\"` AS weather INNER JOIN `bigquery-public-data.ghcn_d.ghcnd_stations` AS stations ON \n",
    "          weather.id = stations.id\n",
    "        WHERE\n",
    "          weather.element = 'TAVG'\n",
    "          AND stations.latitude >\"\"\"+latMin+\"\"\"\n",
    "          AND stations.latitude <\"\"\"+latMax+\"\"\"\n",
    "          AND stations.longitude >\"\"\"+lonMin+\"\"\"\n",
    "          AND stations.longitude <\"\"\"+lonMax+\"\"\"\n",
    "        ORDER BY\n",
    "            weather.date ASC;\n",
    "                \"\"\"\n",
    "        response2 = noaa.query_to_pandas_safe(query, max_gb_scanned=10)\n",
    "        response2.dropna()\n",
    "        weatherData = weatherData.append(response2)\n",
    "    return weatherData\n",
    "\n",
    "dfWeather= weatherDataByCountry('HN')\n",
    "print(dfWeather.size)\n",
    "print(dfWeather.head(10))"
   ]
  },
  {
   "cell_type": "code",
   "execution_count": 54,
   "metadata": {},
   "outputs": [
    {
     "name": "stdout",
     "output_type": "stream",
     "text": [
      "            id  distance  latitude  longitude\n",
      "0  HOM00078705  0.816828   15.7420    -86.853\n",
      "1  HOW00011806  0.867297   16.0167    -85.950\n",
      "2  HO000078720  1.507753   14.0500    -87.217\n",
      "3  HOM00078708  1.701020   15.4530    -87.924\n",
      "4  HO000078724  2.169227   13.2300    -87.150\n",
      "5  NU000055002  2.282180   12.9500    -85.860\n",
      "6  NU000055016  2.326082   12.8800    -86.410\n",
      "7  NU000055029  2.379013   12.9300    -85.530\n",
      "8  HO000078711  2.441959   15.2170    -83.800\n",
      "9  ES004881415  2.453357   13.3300    -87.830\n",
      "10712\n",
      "         date  value\n",
      "0  2000-01-01  215.0\n",
      "1  2000-01-02  237.0\n",
      "2  2000-01-03  242.0\n",
      "3  2000-01-04  241.0\n",
      "4  2000-01-05  242.0\n",
      "5  2000-01-06  222.0\n",
      "6  2000-01-07  222.0\n",
      "7  2000-01-08  219.0\n",
      "8  2000-01-09  225.0\n",
      "9  2000-01-10  268.0\n"
     ]
    }
   ],
   "source": [
    "def closestStationToLoc(lat, long):\n",
    "    query = \"\"\"SELECT weather.id, POWER(POWER(weather.latitude - \"\"\"+str(lat)+\"\"\",2) + POWER(weather.longitude - \"\"\"+str(long)+\"\"\",2), 1/2) AS distance, weather.latitude, weather.longitude\n",
    "    FROM\n",
    "      `bigquery-public-data.ghcn_d.ghcnd_stations` AS weather\n",
    "    ORDER BY\n",
    "        distance ASC\n",
    "    LIMIT 10;\n",
    "            \"\"\"\n",
    "    response2 = noaa.query_to_pandas_safe(query, max_gb_scanned=10)\n",
    "    print(response2)\n",
    "    return response2['id'].iloc[0]\n",
    "\n",
    "def weatherDataForStationID(ID):\n",
    "    weatherData = pd.DataFrame()\n",
    "    for i in range(2000,2015):\n",
    "        query = \"\"\"SELECT\n",
    "          weather.date,\n",
    "          weather.value\n",
    "        FROM\n",
    "          `bigquery-public-data.ghcn_d.ghcnd_\"\"\"+str(i)+\"\"\"` AS weather\n",
    "        WHERE\n",
    "            weather.element = 'TAVG'\n",
    "            AND weather.id = '\"\"\"+ID+\"\"\"'\n",
    "        ORDER BY\n",
    "            weather.date ASC;\n",
    "                \"\"\"\n",
    "        response2 = noaa.query_to_pandas_safe(query, max_gb_scanned=10)\n",
    "        response2.dropna()\n",
    "        weatherData = weatherData.append(response2)\n",
    "    return weatherData\n",
    "\n",
    "stationID = closestStationToLoc(15.2000, -86.2419)\n",
    "dfWeather= weatherDataForStationID(stationID)\n",
    "print(dfWeather.size)\n",
    "print(dfWeather.head(10))"
   ]
  },
  {
   "cell_type": "code",
   "execution_count": null,
   "metadata": {},
   "outputs": [],
   "source": []
  }
 ],
 "metadata": {
  "kernelspec": {
   "display_name": "Python 3",
   "language": "python",
   "name": "python3"
  },
  "language_info": {
   "codemirror_mode": {
    "name": "ipython",
    "version": 3
   },
   "file_extension": ".py",
   "mimetype": "text/x-python",
   "name": "python",
   "nbconvert_exporter": "python",
   "pygments_lexer": "ipython3",
   "version": "3.6.5"
  }
 },
 "nbformat": 4,
 "nbformat_minor": 2
}
