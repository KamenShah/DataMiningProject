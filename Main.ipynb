{
 "cells": [
  {
   "cell_type": "code",
   "execution_count": 7,
   "metadata": {},
   "outputs": [],
   "source": [
    "#Uncomment these lines to install libraries for this script\n",
    "\n",
    "#!pip install -e git+https://github.com/SohierDane/BigQuery_Helper#egg=bq_helper\n",
    "#!pip install --upgrade google-cloud-bigquery"
   ]
  },
  {
   "cell_type": "code",
   "execution_count": 36,
   "metadata": {},
   "outputs": [],
   "source": [
    "import os\n",
    "import bq_helper\n",
    "import datetime as datetime\n",
    "from bq_helper import BigQueryHelper\n",
    "import pandas as pd\n",
    "%run country-boundingbox.ipynb\n",
    "\n",
    "os.environ[\"GOOGLE_APPLICATION_CREDENTIALS\"] = \"Data-mining-afa11af25388.json\"\n",
    "# https://www.kaggle.com/sohier/introduction-to-the-bq-helper-package\n",
    "noaa = bq_helper.BigQueryHelper(active_project=\"bigquery-public-data\",\n",
    "                                   dataset_name=\"ghcn_d\")"
   ]
  },
  {
   "cell_type": "code",
   "execution_count": 37,
   "metadata": {},
   "outputs": [],
   "source": [
    "#Function returns all weather station data within the country between the specified years. Inefficient, but  complete.\n",
    "#All country IDs can be found in the country-boundingbox file\n",
    "\n",
    "def weatherDataByCountry(countryID, startYear, endYear):\n",
    "    coordinates = country_bounding_boxes[countryID][1]\n",
    "    lonMin = str(coordinates[0])\n",
    "    latMin = str(coordinates[1])\n",
    "    lonMax = str(coordinates[2])\n",
    "    latMax = str(coordinates[3])\n",
    "    weatherData = pd.DataFrame()\n",
    "    for i in range(startYear,endYear):\n",
    "        query = \"\"\"SELECT\n",
    "          stations.id,\n",
    "          weather.date,\n",
    "          weather.element,\n",
    "          weather.value\n",
    "        FROM\n",
    "          `bigquery-public-data.ghcn_d.ghcnd_\"\"\"+str(i)+\"\"\"` AS weather INNER JOIN `bigquery-public-data.ghcn_d.ghcnd_stations` AS stations ON \n",
    "          weather.id = stations.id\n",
    "        WHERE\n",
    "          weather.element = 'TAVG'\n",
    "          AND stations.latitude >\"\"\"+latMin+\"\"\"\n",
    "          AND stations.latitude <\"\"\"+latMax+\"\"\"\n",
    "          AND stations.longitude >\"\"\"+lonMin+\"\"\"\n",
    "          AND stations.longitude <\"\"\"+lonMax+\"\"\"\n",
    "        ORDER BY\n",
    "            weather.date ASC;\n",
    "                \"\"\"\n",
    "        response2 = noaa.query_to_pandas_safe(query, max_gb_scanned=10)\n",
    "        weatherData = weatherData.append(response2)\n",
    "    weatherData.dropna()\n",
    "    return weatherData"
   ]
  },
  {
   "cell_type": "code",
   "execution_count": 38,
   "metadata": {},
   "outputs": [
    {
     "name": "stdout",
     "output_type": "stream",
     "text": [
      "13964\n",
      "            id        date element  value\n",
      "0  HOM00078705  2013-01-01    TAVG  267.0\n",
      "1  ES003800510  2013-01-01    TAVG  263.0\n",
      "2  HO000078720  2013-01-01    TAVG  194.0\n",
      "3  HOM00078708  2013-01-01    TAVG  249.0\n",
      "4  ES003800510  2013-01-02    TAVG  262.0\n",
      "5  HOM00078705  2013-01-02    TAVG  253.0\n",
      "6  HOM00078708  2013-01-02    TAVG  261.0\n",
      "7  HO000078720  2013-01-02    TAVG  209.0\n",
      "8  HO000078711  2013-01-02    TAVG  259.0\n",
      "9  HOM00078708  2013-01-03    TAVG  252.0\n"
     ]
    }
   ],
   "source": [
    "dfWeather= weatherDataByCountry('HN', 2013, 2015)\n",
    "print(dfWeather.size)\n",
    "print(dfWeather.head(10))"
   ]
  },
  {
   "cell_type": "code",
   "execution_count": 41,
   "metadata": {},
   "outputs": [],
   "source": [
    "#Function finds the closest weather station to a specified coordinates and returns weather data between the specified years.\n",
    "#Function takes in latitude and longitude coordinates (ensure to add negative signs to coordinates if necessary)\n",
    "\n",
    "def weatherDataByCoordinates(lat, long, startYear, endYear):\n",
    "    stationID = closestStationToLoc(lat, long)\n",
    "    df = weatherDataForStationID(stationID, startYear, endYear)\n",
    "    df['value'] = df['value'].div(10,axis=0) #fix value\n",
    "    df[\"date\"] = pd.to_datetime(df[\"date\"]) #set Date as index\n",
    "    df.set_index('date', inplace=True)\n",
    "    return df\n",
    "\n",
    "def prcpDataByCoordinates(lat, long, startYear, endYear):\n",
    "    stationID = closestStationToLoc(lat, long)\n",
    "    df = weatherDataForStationID(stationID, startYear, endYear)\n",
    "    df['value'] = df['value'].div(10,axis=0) #fix value\n",
    "    df[\"date\"] = pd.to_datetime(df[\"date\"]) #set Date as index\n",
    "    df.set_index('date', inplace=True)\n",
    "    return df\n",
    "\n",
    "\n",
    "#Helper functions\n",
    "def closestStationToLoc(lat, long):\n",
    "    query = \"\"\"SELECT weather.id, POWER(POWER(weather.latitude - \"\"\"+str(lat)+\"\"\",2) + POWER(weather.longitude - \"\"\"+str(long)+\"\"\",2), 1/2) AS distance, weather.latitude, weather.longitude\n",
    "    FROM\n",
    "      `bigquery-public-data.ghcn_d.ghcnd_stations` AS weather\n",
    "    ORDER BY\n",
    "        distance ASC\n",
    "    LIMIT 10;\n",
    "            \"\"\"\n",
    "    response2 = noaa.query_to_pandas_safe(query, max_gb_scanned=10)\n",
    "    return response2['id'].iloc[0]\n",
    "\n",
    "def weatherDataForStationID(ID, startYear, endYear):\n",
    "    weatherData = pd.DataFrame()\n",
    "    for i in range(startYear,endYear):\n",
    "        query = \"\"\"SELECT\n",
    "          weather.date,\n",
    "          weather.value\n",
    "        FROM\n",
    "          `bigquery-public-data.ghcn_d.ghcnd_\"\"\"+str(i)+\"\"\"` AS weather\n",
    "        WHERE\n",
    "            weather.element = 'TAVG'\n",
    "            AND weather.id = '\"\"\"+ID+\"\"\"'\n",
    "        ORDER BY\n",
    "            weather.date ASC;\n",
    "                \"\"\"\n",
    "        response2 = noaa.query_to_pandas_safe(query, max_gb_scanned=10)\n",
    "        weatherData = weatherData.append(response2)\n",
    "    weatherData.dropna()\n",
    "    return weatherData\n",
    "\n",
    "def prcpDataForStationID(ID, startYear, endYear):\n",
    "    weatherData = pd.DataFrame()\n",
    "    for i in range(startYear,endYear):\n",
    "        query = \"\"\"SELECT\n",
    "          weather.date,\n",
    "          weather.value\n",
    "        FROM\n",
    "          `bigquery-public-data.ghcn_d.ghcnd_\"\"\"+str(i)+\"\"\"` AS weather\n",
    "        WHERE\n",
    "            weather.element = 'PRCP'\n",
    "            AND weather.id = '\"\"\"+ID+\"\"\"'\n",
    "        ORDER BY\n",
    "            weather.date ASC;\n",
    "                \"\"\"\n",
    "        response2 = noaa.query_to_pandas_safe(query, max_gb_scanned=10)\n",
    "        weatherData = weatherData.append(response2)\n",
    "    weatherData.dropna()\n",
    "    return weatherData"
   ]
  },
  {
   "cell_type": "code",
   "execution_count": 43,
   "metadata": {},
   "outputs": [
    {
     "name": "stdout",
     "output_type": "stream",
     "text": [
      "9425\n",
      "            value\n",
      "date             \n",
      "1990-01-01   24.4\n",
      "1990-01-02   24.4\n",
      "1990-01-03   22.7\n",
      "1990-01-04   23.9\n",
      "1990-01-05   25.4\n",
      "1990-01-06   24.8\n",
      "1990-01-07   23.9\n",
      "1990-01-08   22.9\n",
      "1990-01-09   24.6\n",
      "1990-01-10   23.6\n",
      "value    float64\n",
      "dtype: object\n",
      "9425\n",
      "            value\n",
      "date             \n",
      "1990-01-01   24.4\n",
      "1990-01-02   24.4\n",
      "1990-01-03   22.7\n",
      "1990-01-04   23.9\n",
      "1990-01-05   25.4\n",
      "1990-01-06   24.8\n",
      "1990-01-07   23.9\n",
      "1990-01-08   22.9\n",
      "1990-01-09   24.6\n",
      "1990-01-10   23.6\n",
      "value    float64\n",
      "dtype: object\n"
     ]
    }
   ],
   "source": [
    "dfWeather = weatherDataByCoordinates(15.2000, -86.2419, 1990, 2017)\n",
    "pdfWeather = prcpDataByCoordinates(15.2000, -86.2419, 1990, 2017)\n",
    "\n",
    "##east and South are negitive\n",
    "print(dfWeather.size)\n",
    "print(dfWeather.head(10))\n",
    "print(dfWeather.dtypes)\n",
    "\n",
    "print(pdfWeather.size)\n",
    "print(pdfWeather.head(10))\n",
    "print(pdfWeather.dtypes)"
   ]
  },
  {
   "cell_type": "code",
   "execution_count": 46,
   "metadata": {},
   "outputs": [],
   "source": [
    "#Turns a dataframe to the moving average with (i days)\n",
    "# df - Pandas Dataframe\n",
    "# i - Value for how many days to take the moving average with respect to\n",
    "def movingAvg(df,i):\n",
    "    if(i < 1):\n",
    "        raise Exception('Invalid Int: Cannot find moving average of {}.'.format(sample))\n",
    "    df['value'] = df['value'].rolling(i,center=True,min_periods=1).mean()\n",
    "    return df"
   ]
  },
  {
   "cell_type": "code",
   "execution_count": 47,
   "metadata": {},
   "outputs": [
    {
     "name": "stdout",
     "output_type": "stream",
     "text": [
      "                value\n",
      "date                 \n",
      "1990-01-01  24.400000\n",
      "1990-01-02  23.833333\n",
      "1990-01-03  23.666667\n",
      "1990-01-04  24.000000\n",
      "1990-01-05  24.700000\n",
      "1990-01-06  24.700000\n",
      "1990-01-07  23.866667\n",
      "1990-01-08  23.800000\n",
      "1990-01-09  23.700000\n",
      "1990-01-10  23.900000\n"
     ]
    }
   ],
   "source": [
    "dfWeather_ma = movingAvg(dfWeather,3)\n",
    "print(dfWeather_ma.head(10))"
   ]
  },
  {
   "cell_type": "code",
   "execution_count": 62,
   "metadata": {},
   "outputs": [],
   "source": [
    "#function to downsample to year month\n",
    "def downSample(df,sample):\n",
    "    if(sample == '1Y'):\n",
    "        df= df.resample(sample).mean()\n",
    "        df.index = df.index.to_period('y')\n",
    "    elif(sample == '1M'):\n",
    "        df= df.resample(sample).mean()\n",
    "        df.index = df.index.to_period('m')\n",
    "    else:\n",
    "        raise Exception('Invalid Sample String: The value was: {}.'.format(sample))\n",
    "    return df\n",
    "\n",
    "def downSamplemin(df,sample):\n",
    "    if(sample == '1Y'):\n",
    "        df= df.resample(sample).min()\n",
    "        df.index = df.index.to_period('y')\n",
    "    elif(sample == '1M'):\n",
    "        df= df.resample(sample).min()\n",
    "        df.index = df.index.to_period('m')\n",
    "    else:\n",
    "        raise Exception('Invalid Sample String: The value was: {}.'.format(sample))\n",
    "    return df\n",
    "\n",
    "def downSamplemax(df,sample):\n",
    "    if(sample == '1Y'):\n",
    "        df= df.resample(sample).max()\n",
    "        df.index = df.index.to_period('y')\n",
    "    elif(sample == '1M'):\n",
    "        df= df.resample(sample).max()\n",
    "        df.index = df.index.to_period('m')\n",
    "    else:\n",
    "        raise Exception('Invalid Sample String: The value was: {}.'.format(sample))\n",
    "    return df"
   ]
  },
  {
   "cell_type": "code",
   "execution_count": 70,
   "metadata": {},
   "outputs": [
    {
     "name": "stdout",
     "output_type": "stream",
     "text": [
      "      prcpMin  prcpMax     tmpAvg\n",
      "date                             \n",
      "1990     18.3     31.3  25.910214\n",
      "1991     20.2     31.9  26.060762\n",
      "1992     20.4     31.9  26.995308\n",
      "1993     18.8     30.7  26.159890\n",
      "1994     19.5     32.9  27.932738\n",
      "1995     19.8     33.7  27.622011\n",
      "1996     18.1     31.6  26.692197\n",
      "1997     19.2     31.9  27.739268\n",
      "1998     19.0     32.9  27.589169\n",
      "1999     19.2     31.9  26.560231\n",
      "2000     19.5     30.6  25.769367\n",
      "2001     19.6     30.5  25.525023\n",
      "2002     20.0     31.3  25.933991\n",
      "2003     18.7     29.5  25.553333\n",
      "2004     19.1     30.4  25.759270\n",
      "2005     20.0     31.0  26.741738\n",
      "2006     18.7     30.8  25.944539\n",
      "2007     20.3     30.9  25.447688\n",
      "2008     19.5     31.1  25.220591\n",
      "2009     19.1     31.7  25.743970\n",
      "2010     17.3     31.1  25.303693\n",
      "2011     20.4     29.7  25.893973\n",
      "2012     19.3     29.7  26.212750\n",
      "2013     18.8     30.3  25.844197\n",
      "2014     19.7     28.9  25.512785\n",
      "2015     20.2     31.6  26.626301\n",
      "2016     18.8     31.6  27.406639\n"
     ]
    }
   ],
   "source": [
    "#DownSample by Month\n",
    "dfWeather_mo = downSample(dfWeather_ma,'1M')\n",
    "#print(dfWeather_mo.head(10))\n",
    "\n",
    "#Downsample by Year\n",
    "dfWeather_yr = downSample(dfWeather_ma,'1Y')\n",
    "dfWeather_yr = dfWeather_yr.rename(index=str,columns={\"value\":\"tmpAvg\"})\n",
    "#print(dfWeather_yr)\n",
    "\n",
    "downSamplemin_yr = downSamplemin(pdfWeather,'1Y')\n",
    "downSamplemin_yr = downSamplemin_yr.rename(index=str,columns={\"value\":\"prcpMin\"})\n",
    "#print(downSamplemin_yr)\n",
    "\n",
    "downSamplemax_yr =downSamplemax(pdfWeather,'1Y')\n",
    "downSamplemax_yr = downSamplemax_yr.rename(index=str,columns={'value':'prcpMax'})\n",
    "#print(downSamplemax_yr)\n",
    "\n",
    "merge=pd.merge(downSamplemin_yr,downSamplemax_yr, how='inner', left_index=True, right_index=True)\n",
    "merge=pd.merge(merge,dfWeather_yr, how='inner', left_index=True, right_index=True)\n",
    "print(merge)"
   ]
  },
  {
   "cell_type": "code",
   "execution_count": 60,
   "metadata": {},
   "outputs": [],
   "source": [
    "m =0\n",
    "i = 0\n",
    "#for unique yearly key in dataframe\n",
    "#Find max and set \n",
    "#\n",
    "#\n",
    "#\n",
    "#\n",
    "#\n",
    "#\n",
    "#\n",
    "#\n",
    "#\n",
    "#\n",
    "#\n",
    "#"
   ]
  },
  {
   "cell_type": "code",
   "execution_count": 28,
   "metadata": {},
   "outputs": [],
   "source": [
    "#OLS stuff\n",
    "honduras = dfWeather_yr.to_csv(\"HondurasWeather1990-2016.csv\",sep=',')"
   ]
  },
  {
   "cell_type": "code",
   "execution_count": null,
   "metadata": {},
   "outputs": [],
   "source": []
  }
 ],
 "metadata": {
  "kernelspec": {
   "display_name": "Python 3",
   "language": "python",
   "name": "python3"
  },
  "language_info": {
   "codemirror_mode": {
    "name": "ipython",
    "version": 3
   },
   "file_extension": ".py",
   "mimetype": "text/x-python",
   "name": "python",
   "nbconvert_exporter": "python",
   "pygments_lexer": "ipython3",
   "version": "3.7.0"
  },
  "varInspector": {
   "cols": {
    "lenName": 16,
    "lenType": 16,
    "lenVar": 40
   },
   "kernels_config": {
    "python": {
     "delete_cmd_postfix": "",
     "delete_cmd_prefix": "del ",
     "library": "var_list.py",
     "varRefreshCmd": "print(var_dic_list())"
    },
    "r": {
     "delete_cmd_postfix": ") ",
     "delete_cmd_prefix": "rm(",
     "library": "var_list.r",
     "varRefreshCmd": "cat(var_dic_list()) "
    }
   },
   "types_to_exclude": [
    "module",
    "function",
    "builtin_function_or_method",
    "instance",
    "_Feature"
   ],
   "window_display": false
  }
 },
 "nbformat": 4,
 "nbformat_minor": 2
}
