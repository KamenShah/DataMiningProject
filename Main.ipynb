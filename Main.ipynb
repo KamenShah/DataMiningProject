{
 "cells": [
  {
   "cell_type": "code",
   "execution_count": 1,
   "metadata": {},
   "outputs": [],
   "source": [
    "#!pip install -e git+https://github.com/SohierDane/BigQuery_Helper#egg=bq_helper\n",
    "#!pip install --upgrade google-cloud-bigquery"
   ]
  },
  {
   "cell_type": "code",
   "execution_count": 2,
   "metadata": {},
   "outputs": [],
   "source": [
    "import os\n",
    "import bq_helper\n",
    "from bq_helper import BigQueryHelper\n",
    "import pandas as pd\n",
    "%run country-boundingbox.ipynb\n",
    "\n",
    "os.environ[\"GOOGLE_APPLICATION_CREDENTIALS\"] = \"Data-mining-afa11af25388.json\"\n",
    "# https://www.kaggle.com/sohier/introduction-to-the-bq-helper-package\n",
    "noaa = bq_helper.BigQueryHelper(active_project=\"bigquery-public-data\",\n",
    "                                   dataset_name=\"ghcn_d\")"
   ]
  },
  {
   "cell_type": "code",
   "execution_count": 55,
   "metadata": {},
   "outputs": [],
   "source": [
    "def weatherDataByCountry(countryID, startYear, endYear):\n",
    "    coordinates = country_bounding_boxes[countryID][1]\n",
    "    lonMin = str(coordinates[0])\n",
    "    latMin = str(coordinates[1])\n",
    "    lonMax = str(coordinates[2])\n",
    "    latMax = str(coordinates[3])\n",
    "    weatherData = pd.DataFrame()\n",
    "    for i in range(startYear,endYear):\n",
    "        query = \"\"\"SELECT\n",
    "          stations.id,\n",
    "          weather.date,\n",
    "          weather.element,\n",
    "          weather.value\n",
    "        FROM\n",
    "          `bigquery-public-data.ghcn_d.ghcnd_\"\"\"+str(i)+\"\"\"` AS weather INNER JOIN `bigquery-public-data.ghcn_d.ghcnd_stations` AS stations ON \n",
    "          weather.id = stations.id\n",
    "        WHERE\n",
    "          weather.element = 'TAVG'\n",
    "          AND stations.latitude >\"\"\"+latMin+\"\"\"\n",
    "          AND stations.latitude <\"\"\"+latMax+\"\"\"\n",
    "          AND stations.longitude >\"\"\"+lonMin+\"\"\"\n",
    "          AND stations.longitude <\"\"\"+lonMax+\"\"\"\n",
    "        ORDER BY\n",
    "            weather.date ASC;\n",
    "                \"\"\"\n",
    "        response2 = noaa.query_to_pandas_safe(query, max_gb_scanned=10)\n",
    "        response2.dropna()\n",
    "        weatherData = weatherData.append(response2)\n",
    "    return weatherData"
   ]
  },
  {
   "cell_type": "code",
   "execution_count": 56,
   "metadata": {},
   "outputs": [
    {
     "name": "stdout",
     "output_type": "stream",
     "text": [
      "13964\n",
      "            id        date element  value\n",
      "0  HOM00078705  2013-01-01    TAVG  267.0\n",
      "1  HOM00078708  2013-01-01    TAVG  249.0\n",
      "2  ES003800510  2013-01-01    TAVG  263.0\n",
      "3  HO000078720  2013-01-01    TAVG  194.0\n",
      "4  ES003800510  2013-01-02    TAVG  262.0\n",
      "5  HOM00078708  2013-01-02    TAVG  261.0\n",
      "6  HOM00078705  2013-01-02    TAVG  253.0\n",
      "7  HO000078711  2013-01-02    TAVG  259.0\n",
      "8  HO000078720  2013-01-02    TAVG  209.0\n",
      "9  HOM00078708  2013-01-03    TAVG  252.0\n"
     ]
    }
   ],
   "source": [
    "dfWeather= weatherDataByCountry('HN', 2013, 2015)\n",
    "print(dfWeather.size)\n",
    "print(dfWeather.head(10))"
   ]
  },
  {
   "cell_type": "code",
   "execution_count": 60,
   "metadata": {},
   "outputs": [],
   "source": [
    "def closestStationToLoc(lat, long, startYear, endYear ):\n",
    "    query = \"\"\"SELECT weather.id, POWER(POWER(weather.latitude - \"\"\"+str(lat)+\"\"\",2) + POWER(weather.longitude - \"\"\"+str(long)+\"\"\",2), 1/2) AS distance, weather.latitude, weather.longitude\n",
    "    FROM\n",
    "      `bigquery-public-data.ghcn_d.ghcnd_stations` AS weather\n",
    "    ORDER BY\n",
    "        distance ASC\n",
    "    LIMIT 10;\n",
    "            \"\"\"\n",
    "    response2 = noaa.query_to_pandas_safe(query, max_gb_scanned=10)\n",
    "    return weatherDataForStationID(response2['id'].iloc[0], startYear, endYear )\n",
    "\n",
    "def weatherDataForStationID(ID, startYear, endYear):\n",
    "    weatherData = pd.DataFrame()\n",
    "    for i in range(startYear,endYear):\n",
    "        query = \"\"\"SELECT\n",
    "          weather.date,\n",
    "          weather.value\n",
    "        FROM\n",
    "          `bigquery-public-data.ghcn_d.ghcnd_\"\"\"+str(i)+\"\"\"` AS weather\n",
    "        WHERE\n",
    "            weather.element = 'TAVG'\n",
    "            AND weather.id = '\"\"\"+ID+\"\"\"'\n",
    "        ORDER BY\n",
    "            weather.date ASC;\n",
    "                \"\"\"\n",
    "        response2 = noaa.query_to_pandas_safe(query, max_gb_scanned=10)\n",
    "        response2.dropna()\n",
    "        weatherData = weatherData.append(response2)\n",
    "    return weatherData"
   ]
  },
  {
   "cell_type": "code",
   "execution_count": 61,
   "metadata": {},
   "outputs": [
    {
     "name": "stdout",
     "output_type": "stream",
     "text": [
      "1448\n",
      "         date  value\n",
      "0  2013-01-01  267.0\n",
      "1  2013-01-02  253.0\n",
      "2  2013-01-03  251.0\n",
      "3  2013-01-04  238.0\n",
      "4  2013-01-05  251.0\n",
      "5  2013-01-06  251.0\n",
      "6  2013-01-07  248.0\n",
      "7  2013-01-08  254.0\n",
      "8  2013-01-09  258.0\n",
      "9  2013-01-10  258.0\n"
     ]
    }
   ],
   "source": [
    "dfWeather = closestStationToLoc(15.2000, -86.2419, 2013, 2015)\n",
    "print(dfWeather.size)\n",
    "print(dfWeather.head(10))"
   ]
  },
  {
   "cell_type": "code",
   "execution_count": null,
   "metadata": {},
   "outputs": [],
   "source": []
  }
 ],
 "metadata": {
  "kernelspec": {
   "display_name": "Python 3",
   "language": "python",
   "name": "python3"
  },
  "language_info": {
   "codemirror_mode": {
    "name": "ipython",
    "version": 3
   },
   "file_extension": ".py",
   "mimetype": "text/x-python",
   "name": "python",
   "nbconvert_exporter": "python",
   "pygments_lexer": "ipython3",
   "version": "3.6.5"
  }
 },
 "nbformat": 4,
 "nbformat_minor": 2
}
