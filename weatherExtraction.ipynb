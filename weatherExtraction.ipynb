{
 "cells": [
  {
   "cell_type": "code",
   "execution_count": 7,
   "metadata": {},
   "outputs": [],
   "source": [
    "#Uncomment these lines to install libraries for this script\n",
    "\n",
    "#!pip install -e git+https://github.com/SohierDane/BigQuery_Helper#egg=bq_helper\n",
    "#!pip install --upgrade google-cloud-bigquery"
   ]
  },
  {
   "cell_type": "code",
   "execution_count": 36,
   "metadata": {},
   "outputs": [],
   "source": [
    "import os\n",
    "import bq_helper\n",
    "import datetime as datetime\n",
    "from bq_helper import BigQueryHelper\n",
    "import pandas as pd\n",
    "%run country-boundingbox.ipynb\n",
    "\n",
    "os.environ[\"GOOGLE_APPLICATION_CREDENTIALS\"] = \"Data-mining-afa11af25388.json\"\n",
    "# https://www.kaggle.com/sohier/introduction-to-the-bq-helper-package\n",
    "noaa = bq_helper.BigQueryHelper(active_project=\"bigquery-public-data\",\n",
    "                                   dataset_name=\"ghcn_d\")"
   ]
  },
  {
   "cell_type": "code",
   "execution_count": 41,
   "metadata": {},
   "outputs": [],
   "source": [
    "#Function finds the closest weather station to a specified coordinates and returns weather data between the specified years.\n",
    "#Function takes in latitude and longitude coordinates (ensure to add negative signs to coordinates if necessary)\n",
    "\n",
    "def weatherDataByCoordinates(lat, long, startYear, endYear):\n",
    "    stationID = closestStationToLoc(lat, long)\n",
    "    df = weatherDataForStationID(stationID, startYear, endYear)\n",
    "    df['value'] = df['value'].div(10,axis=0) #fix value\n",
    "    df[\"date\"] = pd.to_datetime(df[\"date\"]) #set Date as index\n",
    "    df.set_index('date', inplace=True)\n",
    "    return df\n",
    "\n",
    "def prcpDataByCoordinates(lat, long, startYear, endYear):\n",
    "    stationID = closestStationToLoc(lat, long)\n",
    "    df = weatherDataForStationID(stationID, startYear, endYear)\n",
    "    df['value'] = df['value'].div(10,axis=0) #fix value\n",
    "    df[\"date\"] = pd.to_datetime(df[\"date\"]) #set Date as index\n",
    "    df.set_index('date', inplace=True)\n",
    "    return df\n",
    "\n",
    "\n",
    "#Helper functions\n",
    "def closestStationToLoc(lat, long):\n",
    "    query = \"\"\"SELECT weather.id, POWER(POWER(weather.latitude - \"\"\"+str(lat)+\"\"\",2) + POWER(weather.longitude - \"\"\"+str(long)+\"\"\",2), 1/2) AS distance, weather.latitude, weather.longitude\n",
    "    FROM\n",
    "      `bigquery-public-data.ghcn_d.ghcnd_stations` AS weather\n",
    "    ORDER BY\n",
    "        distance ASC\n",
    "    LIMIT 10;\n",
    "            \"\"\"\n",
    "    response2 = noaa.query_to_pandas_safe(query, max_gb_scanned=10)\n",
    "    return response2['id'].iloc[0]\n",
    "\n",
    "def weatherDataForStationID(ID, startYear, endYear):\n",
    "    weatherData = pd.DataFrame()\n",
    "    for i in range(startYear,endYear):\n",
    "        query = \"\"\"SELECT\n",
    "          weather.date,\n",
    "          weather.value\n",
    "        FROM\n",
    "          `bigquery-public-data.ghcn_d.ghcnd_\"\"\"+str(i)+\"\"\"` AS weather\n",
    "        WHERE\n",
    "            weather.element = 'TAVG'\n",
    "            AND weather.id = '\"\"\"+ID+\"\"\"'\n",
    "        ORDER BY\n",
    "            weather.date ASC;\n",
    "                \"\"\"\n",
    "        response2 = noaa.query_to_pandas_safe(query, max_gb_scanned=10)\n",
    "        weatherData = weatherData.append(response2)\n",
    "    weatherData.dropna()\n",
    "    return weatherData\n",
    "\n",
    "def prcpDataForStationID(ID, startYear, endYear):\n",
    "    weatherData = pd.DataFrame()\n",
    "    for i in range(startYear,endYear):\n",
    "        query = \"\"\"SELECT\n",
    "          weather.date,\n",
    "          weather.value\n",
    "        FROM\n",
    "          `bigquery-public-data.ghcn_d.ghcnd_\"\"\"+str(i)+\"\"\"` AS weather\n",
    "        WHERE\n",
    "            weather.element = 'PRCP'\n",
    "            AND weather.id = '\"\"\"+ID+\"\"\"'\n",
    "        ORDER BY\n",
    "            weather.date ASC;\n",
    "                \"\"\"\n",
    "        response2 = noaa.query_to_pandas_safe(query, max_gb_scanned=10)\n",
    "        weatherData = weatherData.append(response2)\n",
    "    weatherData.dropna()\n",
    "    return weatherData"
   ]
  },
  {
   "cell_type": "code",
   "execution_count": null,
   "metadata": {},
   "outputs": [],
   "source": [
    "dfWeather = weatherDataByCoordinates(17.1899, -88.4976, 1990, 2017)\n",
    "pdfWeather = prcpDataByCoordinates(17.1899, -88.4976, 1990, 2017)\n",
    "#15.2000° N, 86.2419° W hondouras\n",
    "#12.8654° N, 85.2072° W Nicaragua - No data Found\n",
    "#13.7942° N, 88.8965° W El Salvador\n",
    "#15.7835° N, 90.2308° W Guatemala\n",
    "#9.7489° N, 83.7534° W Costa Rica\n",
    "#8.5380° N, 80.7821° W Panama\n",
    "#17.1899° N, 88.4976° W Belize\n",
    "##east and South are negitive\n",
    "print(dfWeather.size)\n",
    "print(dfWeather.head(10))\n",
    "print(dfWeather.dtypes)\n",
    "\n",
    "print(pdfWeather.size)\n",
    "print(pdfWeather.head(10))\n",
    "print(pdfWeather.dtypes)"
   ]
  },
  {
   "cell_type": "code",
   "execution_count": 87,
   "metadata": {},
   "outputs": [],
   "source": [
    "#Turns a dataframe to the moving average with (i days)\n",
    "# df - Pandas Dataframe\n",
    "# i - Value for how many days to take the moving average with respect to\n",
    "def movingAvg(df,i):\n",
    "    if(i < 1):\n",
    "        raise Exception('Invalid Int: Cannot find moving average of {}.'.format(sample))\n",
    "    df['value'] = df['value'].rolling(i,center=True,min_periods=1).mean()\n",
    "    return df"
   ]
  },
  {
   "cell_type": "code",
   "execution_count": 88,
   "metadata": {},
   "outputs": [
    {
     "name": "stdout",
     "output_type": "stream",
     "text": [
      "                value\n",
      "date                 \n",
      "1990-01-01  22.300000\n",
      "1990-01-02  22.300000\n",
      "1990-01-03  22.166667\n",
      "1990-01-04  22.833333\n",
      "1990-01-05  23.166667\n",
      "1990-01-06  23.366667\n",
      "1990-01-07  23.033333\n",
      "1990-01-08  22.466667\n",
      "1990-01-09  22.166667\n",
      "1990-01-10  21.733333\n"
     ]
    }
   ],
   "source": [
    "dfWeather_ma = movingAvg(dfWeather,3)\n",
    "print(dfWeather_ma.head(10))"
   ]
  },
  {
   "cell_type": "code",
   "execution_count": 89,
   "metadata": {},
   "outputs": [],
   "source": [
    "#function to downsample to year month\n",
    "def downSample(df,sample):\n",
    "    if(sample == '1Y'):\n",
    "        df= df.resample(sample).mean()\n",
    "        df.index = df.index.to_period('y')\n",
    "    elif(sample == '1M'):\n",
    "        df= df.resample(sample).mean()\n",
    "        df.index = df.index.to_period('m')\n",
    "    else:\n",
    "        raise Exception('Invalid Sample String: The value was: {}.'.format(sample))\n",
    "    return df\n",
    "\n",
    "def downSamplemin(df,sample):\n",
    "    if(sample == '1Y'):\n",
    "        df= df.resample(sample).min()\n",
    "        df.index = df.index.to_period('y')\n",
    "    elif(sample == '1M'):\n",
    "        df= df.resample(sample).min()\n",
    "        df.index = df.index.to_period('m')\n",
    "    else:\n",
    "        raise Exception('Invalid Sample String: The value was: {}.'.format(sample))\n",
    "    return df\n",
    "\n",
    "def downSamplemax(df,sample):\n",
    "    if(sample == '1Y'):\n",
    "        df= df.resample(sample).max()\n",
    "        df.index = df.index.to_period('y')\n",
    "    elif(sample == '1M'):\n",
    "        df= df.resample(sample).max()\n",
    "        df.index = df.index.to_period('m')\n",
    "    else:\n",
    "        raise Exception('Invalid Sample String: The value was: {}.'.format(sample))\n",
    "    return df"
   ]
  },
  {
   "cell_type": "code",
   "execution_count": 90,
   "metadata": {},
   "outputs": [
    {
     "name": "stdout",
     "output_type": "stream",
     "text": [
      "      prcpMin  prcpMax     tmpAvg\n",
      "date                             \n",
      "1990     19.6     29.2  22.794973\n",
      "1991     19.3     28.6  22.830233\n",
      "1992     18.2     30.7  22.618491\n",
      "1993     18.1     25.4  22.070402\n",
      "1994     17.8     26.5  22.751342\n",
      "1995     19.6     26.4  22.759016\n",
      "1996     17.3     29.8  22.801692\n",
      "1997     19.5     26.2  22.942975\n",
      "1998     19.6     28.3  23.186447\n",
      "1999     19.3     26.4  21.940018\n",
      "2000     19.6     25.2  22.364088\n",
      "2001     20.2     27.4  22.941941\n",
      "2002     19.9     27.3  23.382875\n",
      "2003     20.7     26.3  23.053755\n",
      "2004     20.3     27.3  22.954762\n",
      "2005     19.6     25.2  22.343379\n",
      "2006     18.3     25.4  22.610502\n",
      "2007     18.7     25.9  22.447215\n",
      "2008     18.6     24.9  22.022404\n",
      "2009     20.7     25.3  22.705571\n",
      "2010     19.2     26.1  22.470502\n",
      "2011     18.3     24.9  22.303014\n",
      "2012     19.3     25.1  22.433607\n",
      "2013     20.0     25.3  22.583700\n",
      "2014     20.2     25.2  22.788037\n",
      "2015     21.1     26.1  23.226575\n",
      "2016     19.9     26.3  22.976393\n"
     ]
    }
   ],
   "source": [
    "#DownSample by Month\n",
    "dfWeather_mo = downSample(dfWeather_ma,'1M')\n",
    "#print(dfWeather_mo.head(10))\n",
    "\n",
    "#Downsample by Year\n",
    "dfWeather_yr = downSample(dfWeather_ma,'1Y')\n",
    "dfWeather_yr = dfWeather_yr.rename(index=str,columns={\"value\":\"tmpAvg\"})\n",
    "#print(dfWeather_yr)\n",
    "\n",
    "downSamplemin_yr = downSamplemin(pdfWeather,'1Y')\n",
    "downSamplemin_yr = downSamplemin_yr.rename(index=str,columns={\"value\":\"prcpMin\"})\n",
    "#print(downSamplemin_yr)\n",
    "\n",
    "downSamplemax_yr =downSamplemax(pdfWeather,'1Y')\n",
    "downSamplemax_yr = downSamplemax_yr.rename(index=str,columns={'value':'prcpMax'})\n",
    "#print(downSamplemax_yr)\n",
    "\n",
    "merge=pd.merge(downSamplemin_yr,downSamplemax_yr, how='inner', left_index=True, right_index=True)\n",
    "merge=pd.merge(merge,dfWeather_yr, how='inner', left_index=True, right_index=True)\n",
    "print(merge)"
   ]
  },
  {
   "cell_type": "code",
   "execution_count": null,
   "metadata": {},
   "outputs": [],
   "source": []
  },
  {
   "cell_type": "code",
   "execution_count": 91,
   "metadata": {},
   "outputs": [],
   "source": [
    "#OLS stuff\n",
    "honduras = merge.to_csv(\"Belize1990-2016.csv\",sep=',')"
   ]
  },
  {
   "cell_type": "code",
   "execution_count": null,
   "metadata": {},
   "outputs": [],
   "source": []
  }
 ],
 "metadata": {
  "kernelspec": {
   "display_name": "Python 3",
   "language": "python",
   "name": "python3"
  },
  "language_info": {
   "codemirror_mode": {
    "name": "ipython",
    "version": 3
   },
   "file_extension": ".py",
   "mimetype": "text/x-python",
   "name": "python",
   "nbconvert_exporter": "python",
   "pygments_lexer": "ipython3",
   "version": "3.6.5"
  },
  "varInspector": {
   "cols": {
    "lenName": 16,
    "lenType": 16,
    "lenVar": 40
   },
   "kernels_config": {
    "python": {
     "delete_cmd_postfix": "",
     "delete_cmd_prefix": "del ",
     "library": "var_list.py",
     "varRefreshCmd": "print(var_dic_list())"
    },
    "r": {
     "delete_cmd_postfix": ") ",
     "delete_cmd_prefix": "rm(",
     "library": "var_list.r",
     "varRefreshCmd": "cat(var_dic_list()) "
    }
   },
   "types_to_exclude": [
    "module",
    "function",
    "builtin_function_or_method",
    "instance",
    "_Feature"
   ],
   "window_display": false
  }
 },
 "nbformat": 4,
 "nbformat_minor": 2
}
